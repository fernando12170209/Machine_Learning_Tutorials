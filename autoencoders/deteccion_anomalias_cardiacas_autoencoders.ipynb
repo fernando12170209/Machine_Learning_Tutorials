{
  "nbformat": 4,
  "nbformat_minor": 0,
  "metadata": {
    "colab": {
      "name": "deteccion-anomalias-cardiacas-autoencoders.ipynb",
      "provenance": [],
      "collapsed_sections": [],
      "authorship_tag": "ABX9TyNtiECVoJjn3Gbn2XnD0Ua0",
      "include_colab_link": true
    },
    "kernelspec": {
      "name": "python3",
      "display_name": "Python 3"
    },
    "language_info": {
      "name": "python"
    }
  },
  "cells": [
    {
      "cell_type": "markdown",
      "metadata": {
        "id": "view-in-github",
        "colab_type": "text"
      },
      "source": [
        "<a href=\"https://colab.research.google.com/github/fernando12170209/Machine_Learning_Tutorials/blob/master/autoencoders/deteccion_anomalias_cardiacas_autoencoders.ipynb\" target=\"_parent\"><img src=\"https://colab.research.google.com/assets/colab-badge.svg\" alt=\"Open In Colab\"/></a>"
      ]
    },
    {
      "cell_type": "markdown",
      "metadata": {
        "id": "RFIqJx-cuOb6"
      },
      "source": [
        "# Autoencoders para la detección de anomalías cardiacas \n",
        "\n"
      ]
    },
    {
      "cell_type": "markdown",
      "metadata": {
        "id": "fPmAw2BevpFc"
      },
      "source": [
        "## 1- El problema a resolver\n",
        "Detectar la presencia (sujeto *anormal*) o ausencia (sujeto *normal*) de irregularidades en el ritmo cardiaco, a partir de señales electrocardiográficas (ECG):\n",
        "\n",
        "![](https://drive.google.com/uc?export=view&id=1pzydaNRbcSh1E-S4Ebh0jJEqsim6DeM9)\n",
        "\n",
        "El problema es que usualmente se cuenta con sets de datos **desbalanceados** con más datos normales que anormales"
      ]
    },
    {
      "cell_type": "markdown",
      "metadata": {
        "id": "ajHwoxzFv41H"
      },
      "source": [
        "## 2- El set de datos\n",
        "\n",
        "Se usará el set [ECG5000](https://timeseriesclassification.com/description.php?Dataset=ECG5000) con 7600 datos de entrenamiento y 1900 de prueba.\n",
        "\n",
        "Cada dato contiene un ciclo cardiaco con 140 muestras, y que puede pertenecer a una de 5 categorías:\n",
        "\n",
        "1. Normal\n",
        "2. Anormal: contracción ventricular prematura\n",
        "3. Anormal: contracción supra-ventricular prematura\n",
        "4. Anormal: latido ectópico\n",
        "5. Anormal pero patología desconocida\n",
        "\n",
        "![](https://drive.google.com/uc?export=view&id=1x_sUD1rbM4MM4--s9D4wacRIWEo8aAzL)\n"
      ]
    },
    {
      "cell_type": "markdown",
      "metadata": {
        "id": "y5ilEkhdwIDv"
      },
      "source": [
        "## 3- Autoencoders y detección de anomalías\n",
        "\n",
        "El problema del set ECG5000 es que contiene 4427 datos normales y 3173 anormales, es decir está desbalanceado.\n",
        "\n",
        "De hecho para ciertas categorías anormales (2 a 4) se tienen muy pocos datos:\n",
        "\n",
        "| Categoría   | Nro. datos |\n",
        "|-------------|------------|\n",
        "| 1 (normal)  | 4427       |\n",
        "| 2 (anormal) | 2683       |\n",
        "| 3 (anormal) | 149        |\n",
        "| 4 (anormal) | 306        |\n",
        "| 5 (anormal) | 35         |\n",
        "\n",
        "Así que en lugar de un modelo de clasificación convencional (como una Red Neuronal) se usará un [Autoencoder](https://www.codificandobits.com/blog/autoencoders-explicacion-y-tutorial-python/):\n",
        "\n",
        "![](https://drive.google.com/uc?export=view&id=1LnoIDmfctQr5wmJaojFrZEA1ygPynylu)\n",
        "\n",
        "El autoencoder se entrenará **únicamente con datos normales**. Así, al reconstruir un dato anormal **el error será alto**."
      ]
    },
    {
      "cell_type": "markdown",
      "metadata": {
        "id": "ztmN84jmwOXe"
      },
      "source": [
        "## 4- Implementación"
      ]
    },
    {
      "cell_type": "markdown",
      "metadata": {
        "id": "Qp_gb-PuwPal"
      },
      "source": [
        "### 4.1. Preparación de Google Drive y lectura de los sets de entrenamiento y prueba"
      ]
    },
    {
      "cell_type": "code",
      "metadata": {
        "colab": {
          "resources": {
            "http://localhost:8080/nbextensions/google.colab/files.js": {
              "data": "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",
              "ok": true,
              "headers": [
                [
                  "content-type",
                  "application/javascript"
                ]
              ],
              "status": 200,
              "status_text": ""
            }
          },
          "base_uri": "https://localhost:8080/",
          "height": 108
        },
        "id": "XEJB1OlEwdMv",
        "outputId": "b47faf6a-c9aa-426a-f0d1-92c1d82a20bd"
      },
      "source": [
        "#Para cargar los archivos desde la plataforma, ver archivo en github\n",
        "\n",
        "from google.colab import files\n",
        "file = files.upload()"
      ],
      "execution_count": 1,
      "outputs": [
        {
          "output_type": "display_data",
          "data": {
            "text/html": [
              "\n",
              "     <input type=\"file\" id=\"files-4d2c4408-873e-4ca4-bb83-30c7df4d827b\" name=\"files[]\" multiple disabled\n",
              "        style=\"border:none\" />\n",
              "     <output id=\"result-4d2c4408-873e-4ca4-bb83-30c7df4d827b\">\n",
              "      Upload widget is only available when the cell has been executed in the\n",
              "      current browser session. Please rerun this cell to enable.\n",
              "      </output>\n",
              "      <script src=\"/nbextensions/google.colab/files.js\"></script> "
            ],
            "text/plain": [
              "<IPython.core.display.HTML object>"
            ]
          },
          "metadata": {
            "tags": []
          }
        },
        {
          "output_type": "stream",
          "text": [
            "Saving ECG5000_test.csv to ECG5000_test.csv\n",
            "Saving ECG5000_train.csv to ECG5000_train.csv\n"
          ],
          "name": "stdout"
        }
      ]
    },
    {
      "cell_type": "code",
      "metadata": {
        "id": "rLiC2H5vxwKM"
      },
      "source": [
        "import pandas as pd\n",
        "df_train = pd.read_csv('ECG5000_train.csv')\n",
        "df_test = pd.read_csv('ECG5000_test.csv')"
      ],
      "execution_count": 2,
      "outputs": []
    },
    {
      "cell_type": "code",
      "metadata": {
        "colab": {
          "base_uri": "https://localhost:8080/"
        },
        "id": "nOkdGzPVyIZP",
        "outputId": "096c4ccc-9c73-4e91-9893-5d003bf2958a"
      },
      "source": [
        "#Lectura de los archivos\n",
        "print(df_train.shape)\n",
        "print(df_test.shape)"
      ],
      "execution_count": 3,
      "outputs": [
        {
          "output_type": "stream",
          "text": [
            "(7600, 141)\n",
            "(1900, 141)\n"
          ],
          "name": "stdout"
        }
      ]
    },
    {
      "cell_type": "code",
      "metadata": {
        "colab": {
          "base_uri": "https://localhost:8080/",
          "height": 252
        },
        "id": "by7s8ytRyPE_",
        "outputId": "6442e7ae-aa76-44f8-cecd-d54ba50e62fc"
      },
      "source": [
        "df_train.head()"
      ],
      "execution_count": 4,
      "outputs": [
        {
          "output_type": "execute_result",
          "data": {
            "text/html": [
              "<div>\n",
              "<style scoped>\n",
              "    .dataframe tbody tr th:only-of-type {\n",
              "        vertical-align: middle;\n",
              "    }\n",
              "\n",
              "    .dataframe tbody tr th {\n",
              "        vertical-align: top;\n",
              "    }\n",
              "\n",
              "    .dataframe thead th {\n",
              "        text-align: right;\n",
              "    }\n",
              "</style>\n",
              "<table border=\"1\" class=\"dataframe\">\n",
              "  <thead>\n",
              "    <tr style=\"text-align: right;\">\n",
              "      <th></th>\n",
              "      <th>0</th>\n",
              "      <th>1</th>\n",
              "      <th>2</th>\n",
              "      <th>3</th>\n",
              "      <th>4</th>\n",
              "      <th>5</th>\n",
              "      <th>6</th>\n",
              "      <th>7</th>\n",
              "      <th>8</th>\n",
              "      <th>9</th>\n",
              "      <th>10</th>\n",
              "      <th>11</th>\n",
              "      <th>12</th>\n",
              "      <th>13</th>\n",
              "      <th>14</th>\n",
              "      <th>15</th>\n",
              "      <th>16</th>\n",
              "      <th>17</th>\n",
              "      <th>18</th>\n",
              "      <th>19</th>\n",
              "      <th>20</th>\n",
              "      <th>21</th>\n",
              "      <th>22</th>\n",
              "      <th>23</th>\n",
              "      <th>24</th>\n",
              "      <th>25</th>\n",
              "      <th>26</th>\n",
              "      <th>27</th>\n",
              "      <th>28</th>\n",
              "      <th>29</th>\n",
              "      <th>30</th>\n",
              "      <th>31</th>\n",
              "      <th>32</th>\n",
              "      <th>33</th>\n",
              "      <th>34</th>\n",
              "      <th>35</th>\n",
              "      <th>36</th>\n",
              "      <th>37</th>\n",
              "      <th>38</th>\n",
              "      <th>39</th>\n",
              "      <th>...</th>\n",
              "      <th>101</th>\n",
              "      <th>102</th>\n",
              "      <th>103</th>\n",
              "      <th>104</th>\n",
              "      <th>105</th>\n",
              "      <th>106</th>\n",
              "      <th>107</th>\n",
              "      <th>108</th>\n",
              "      <th>109</th>\n",
              "      <th>110</th>\n",
              "      <th>111</th>\n",
              "      <th>112</th>\n",
              "      <th>113</th>\n",
              "      <th>114</th>\n",
              "      <th>115</th>\n",
              "      <th>116</th>\n",
              "      <th>117</th>\n",
              "      <th>118</th>\n",
              "      <th>119</th>\n",
              "      <th>120</th>\n",
              "      <th>121</th>\n",
              "      <th>122</th>\n",
              "      <th>123</th>\n",
              "      <th>124</th>\n",
              "      <th>125</th>\n",
              "      <th>126</th>\n",
              "      <th>127</th>\n",
              "      <th>128</th>\n",
              "      <th>129</th>\n",
              "      <th>130</th>\n",
              "      <th>131</th>\n",
              "      <th>132</th>\n",
              "      <th>133</th>\n",
              "      <th>134</th>\n",
              "      <th>135</th>\n",
              "      <th>136</th>\n",
              "      <th>137</th>\n",
              "      <th>138</th>\n",
              "      <th>139</th>\n",
              "      <th>140</th>\n",
              "    </tr>\n",
              "  </thead>\n",
              "  <tbody>\n",
              "    <tr>\n",
              "      <th>0</th>\n",
              "      <td>1</td>\n",
              "      <td>-1.30300</td>\n",
              "      <td>-0.83573</td>\n",
              "      <td>-1.9336</td>\n",
              "      <td>-2.09420</td>\n",
              "      <td>-2.02840</td>\n",
              "      <td>-1.2531</td>\n",
              "      <td>-0.52638</td>\n",
              "      <td>-0.089286</td>\n",
              "      <td>-0.07557</td>\n",
              "      <td>0.37087</td>\n",
              "      <td>0.56642</td>\n",
              "      <td>0.54261</td>\n",
              "      <td>0.66121</td>\n",
              "      <td>0.62479</td>\n",
              "      <td>0.74207</td>\n",
              "      <td>0.76770</td>\n",
              "      <td>0.81974</td>\n",
              "      <td>0.835750</td>\n",
              "      <td>0.76076</td>\n",
              "      <td>0.81097</td>\n",
              "      <td>0.81676</td>\n",
              "      <td>0.88772</td>\n",
              "      <td>0.89175</td>\n",
              "      <td>0.87736</td>\n",
              "      <td>0.88914</td>\n",
              "      <td>0.86543</td>\n",
              "      <td>0.89386</td>\n",
              "      <td>0.89202</td>\n",
              "      <td>0.85169</td>\n",
              "      <td>0.85788</td>\n",
              "      <td>0.83076</td>\n",
              "      <td>0.84067</td>\n",
              "      <td>0.861440</td>\n",
              "      <td>0.854430</td>\n",
              "      <td>0.802750</td>\n",
              "      <td>0.81368</td>\n",
              "      <td>0.82726</td>\n",
              "      <td>0.801690</td>\n",
              "      <td>0.810900</td>\n",
              "      <td>...</td>\n",
              "      <td>0.17621</td>\n",
              "      <td>0.21094</td>\n",
              "      <td>0.20356</td>\n",
              "      <td>0.12882</td>\n",
              "      <td>0.12110</td>\n",
              "      <td>0.060584</td>\n",
              "      <td>-0.036151</td>\n",
              "      <td>-0.15962</td>\n",
              "      <td>-0.36932</td>\n",
              "      <td>-0.48888</td>\n",
              "      <td>-0.72672</td>\n",
              "      <td>-0.99073</td>\n",
              "      <td>-1.13060</td>\n",
              "      <td>-1.28670</td>\n",
              "      <td>-1.24200</td>\n",
              "      <td>-1.28720</td>\n",
              "      <td>-1.35690</td>\n",
              "      <td>-1.38860</td>\n",
              "      <td>-1.545400</td>\n",
              "      <td>-1.50300</td>\n",
              "      <td>-1.604700</td>\n",
              "      <td>-1.56360</td>\n",
              "      <td>-1.61090</td>\n",
              "      <td>-1.664700</td>\n",
              "      <td>-1.83510</td>\n",
              "      <td>-1.84900</td>\n",
              "      <td>-1.83060</td>\n",
              "      <td>-1.780300</td>\n",
              "      <td>-1.74310</td>\n",
              "      <td>-1.45550</td>\n",
              "      <td>-1.45820</td>\n",
              "      <td>-1.6676</td>\n",
              "      <td>-1.5977</td>\n",
              "      <td>-1.67930</td>\n",
              "      <td>-1.677200</td>\n",
              "      <td>-1.69370</td>\n",
              "      <td>-1.79410</td>\n",
              "      <td>-1.35940</td>\n",
              "      <td>-2.08120</td>\n",
              "      <td>-2.82880</td>\n",
              "    </tr>\n",
              "    <tr>\n",
              "      <th>1</th>\n",
              "      <td>2</td>\n",
              "      <td>0.32288</td>\n",
              "      <td>-0.87847</td>\n",
              "      <td>-1.8023</td>\n",
              "      <td>-2.66850</td>\n",
              "      <td>-3.26550</td>\n",
              "      <td>-3.3326</td>\n",
              "      <td>-2.88000</td>\n",
              "      <td>-2.227400</td>\n",
              "      <td>-1.54360</td>\n",
              "      <td>-0.97706</td>\n",
              "      <td>-0.76983</td>\n",
              "      <td>-0.70974</td>\n",
              "      <td>-0.28113</td>\n",
              "      <td>0.15679</td>\n",
              "      <td>0.38162</td>\n",
              "      <td>0.46802</td>\n",
              "      <td>0.43842</td>\n",
              "      <td>0.370230</td>\n",
              "      <td>0.23492</td>\n",
              "      <td>0.18923</td>\n",
              "      <td>0.24149</td>\n",
              "      <td>0.30124</td>\n",
              "      <td>0.29042</td>\n",
              "      <td>0.28200</td>\n",
              "      <td>0.23152</td>\n",
              "      <td>0.23147</td>\n",
              "      <td>0.23528</td>\n",
              "      <td>0.14181</td>\n",
              "      <td>0.22672</td>\n",
              "      <td>0.17502</td>\n",
              "      <td>0.17585</td>\n",
              "      <td>0.18336</td>\n",
              "      <td>0.092464</td>\n",
              "      <td>0.005377</td>\n",
              "      <td>-0.078705</td>\n",
              "      <td>0.03310</td>\n",
              "      <td>0.10339</td>\n",
              "      <td>-0.051258</td>\n",
              "      <td>0.002961</td>\n",
              "      <td>...</td>\n",
              "      <td>0.90389</td>\n",
              "      <td>0.98836</td>\n",
              "      <td>0.87212</td>\n",
              "      <td>0.90944</td>\n",
              "      <td>0.96901</td>\n",
              "      <td>0.947020</td>\n",
              "      <td>0.969250</td>\n",
              "      <td>0.96811</td>\n",
              "      <td>1.03100</td>\n",
              "      <td>1.02360</td>\n",
              "      <td>0.98695</td>\n",
              "      <td>0.97388</td>\n",
              "      <td>0.83435</td>\n",
              "      <td>0.91798</td>\n",
              "      <td>0.89487</td>\n",
              "      <td>0.98121</td>\n",
              "      <td>0.77954</td>\n",
              "      <td>0.60109</td>\n",
              "      <td>0.516780</td>\n",
              "      <td>0.43719</td>\n",
              "      <td>0.448180</td>\n",
              "      <td>0.30539</td>\n",
              "      <td>0.15175</td>\n",
              "      <td>-0.045591</td>\n",
              "      <td>-0.25836</td>\n",
              "      <td>-0.33189</td>\n",
              "      <td>-0.35901</td>\n",
              "      <td>-0.295970</td>\n",
              "      <td>-0.26956</td>\n",
              "      <td>-0.69683</td>\n",
              "      <td>-1.23050</td>\n",
              "      <td>-1.7218</td>\n",
              "      <td>-2.1953</td>\n",
              "      <td>-2.74890</td>\n",
              "      <td>-3.446500</td>\n",
              "      <td>-3.66210</td>\n",
              "      <td>-3.01820</td>\n",
              "      <td>-1.65140</td>\n",
              "      <td>-0.23670</td>\n",
              "      <td>0.82832</td>\n",
              "    </tr>\n",
              "    <tr>\n",
              "      <th>2</th>\n",
              "      <td>2</td>\n",
              "      <td>1.39340</td>\n",
              "      <td>1.59260</td>\n",
              "      <td>1.2420</td>\n",
              "      <td>0.79449</td>\n",
              "      <td>0.19577</td>\n",
              "      <td>-0.3156</td>\n",
              "      <td>-0.58053</td>\n",
              "      <td>-0.945020</td>\n",
              "      <td>-1.23350</td>\n",
              "      <td>-1.31790</td>\n",
              "      <td>-1.32820</td>\n",
              "      <td>-1.14270</td>\n",
              "      <td>-0.85536</td>\n",
              "      <td>-0.50753</td>\n",
              "      <td>-0.21569</td>\n",
              "      <td>-0.13837</td>\n",
              "      <td>-0.14210</td>\n",
              "      <td>-0.035537</td>\n",
              "      <td>0.28042</td>\n",
              "      <td>0.51453</td>\n",
              "      <td>0.53823</td>\n",
              "      <td>0.55477</td>\n",
              "      <td>0.53627</td>\n",
              "      <td>0.49089</td>\n",
              "      <td>0.49694</td>\n",
              "      <td>0.57934</td>\n",
              "      <td>0.64473</td>\n",
              "      <td>0.59247</td>\n",
              "      <td>0.53083</td>\n",
              "      <td>0.47033</td>\n",
              "      <td>0.45692</td>\n",
              "      <td>0.52115</td>\n",
              "      <td>0.511590</td>\n",
              "      <td>0.496170</td>\n",
              "      <td>0.556310</td>\n",
              "      <td>0.56821</td>\n",
              "      <td>0.53570</td>\n",
              "      <td>0.495200</td>\n",
              "      <td>0.435200</td>\n",
              "      <td>...</td>\n",
              "      <td>0.61854</td>\n",
              "      <td>0.62773</td>\n",
              "      <td>0.63470</td>\n",
              "      <td>0.64032</td>\n",
              "      <td>0.57703</td>\n",
              "      <td>0.596120</td>\n",
              "      <td>0.679180</td>\n",
              "      <td>0.61694</td>\n",
              "      <td>0.55551</td>\n",
              "      <td>0.60792</td>\n",
              "      <td>0.61381</td>\n",
              "      <td>0.60917</td>\n",
              "      <td>0.59986</td>\n",
              "      <td>0.56488</td>\n",
              "      <td>0.50019</td>\n",
              "      <td>0.36760</td>\n",
              "      <td>0.28932</td>\n",
              "      <td>0.25419</td>\n",
              "      <td>0.261390</td>\n",
              "      <td>0.22714</td>\n",
              "      <td>0.024193</td>\n",
              "      <td>-0.12737</td>\n",
              "      <td>-0.19262</td>\n",
              "      <td>-0.315870</td>\n",
              "      <td>-0.54165</td>\n",
              "      <td>-0.76463</td>\n",
              "      <td>-0.79023</td>\n",
              "      <td>-0.825690</td>\n",
              "      <td>-1.11350</td>\n",
              "      <td>-1.47640</td>\n",
              "      <td>-1.90850</td>\n",
              "      <td>-2.5295</td>\n",
              "      <td>-3.0614</td>\n",
              "      <td>-3.50370</td>\n",
              "      <td>-3.900400</td>\n",
              "      <td>-4.24600</td>\n",
              "      <td>-4.13380</td>\n",
              "      <td>-3.19850</td>\n",
              "      <td>-2.42200</td>\n",
              "      <td>-1.07370</td>\n",
              "    </tr>\n",
              "    <tr>\n",
              "      <th>3</th>\n",
              "      <td>1</td>\n",
              "      <td>-3.52270</td>\n",
              "      <td>-5.02610</td>\n",
              "      <td>-4.3613</td>\n",
              "      <td>-4.10570</td>\n",
              "      <td>-3.10420</td>\n",
              "      <td>-1.8178</td>\n",
              "      <td>-1.39840</td>\n",
              "      <td>-1.070100</td>\n",
              "      <td>-0.40691</td>\n",
              "      <td>-0.26780</td>\n",
              "      <td>-0.22567</td>\n",
              "      <td>-0.29459</td>\n",
              "      <td>-0.17663</td>\n",
              "      <td>-0.18777</td>\n",
              "      <td>-0.19646</td>\n",
              "      <td>-0.13372</td>\n",
              "      <td>-0.16795</td>\n",
              "      <td>-0.187070</td>\n",
              "      <td>-0.11136</td>\n",
              "      <td>-0.16066</td>\n",
              "      <td>-0.21886</td>\n",
              "      <td>-0.25888</td>\n",
              "      <td>-0.25794</td>\n",
              "      <td>-0.35207</td>\n",
              "      <td>-0.41271</td>\n",
              "      <td>-0.40929</td>\n",
              "      <td>-0.47057</td>\n",
              "      <td>-0.35898</td>\n",
              "      <td>-0.45973</td>\n",
              "      <td>-0.53768</td>\n",
              "      <td>-0.58698</td>\n",
              "      <td>-0.60378</td>\n",
              "      <td>-0.580350</td>\n",
              "      <td>-0.631020</td>\n",
              "      <td>-0.673070</td>\n",
              "      <td>-0.57797</td>\n",
              "      <td>-0.58204</td>\n",
              "      <td>-0.592550</td>\n",
              "      <td>-0.468730</td>\n",
              "      <td>...</td>\n",
              "      <td>1.56870</td>\n",
              "      <td>1.70360</td>\n",
              "      <td>1.60610</td>\n",
              "      <td>1.58610</td>\n",
              "      <td>1.58730</td>\n",
              "      <td>1.382100</td>\n",
              "      <td>1.194500</td>\n",
              "      <td>0.96238</td>\n",
              "      <td>0.83690</td>\n",
              "      <td>0.56481</td>\n",
              "      <td>0.27801</td>\n",
              "      <td>-0.06689</td>\n",
              "      <td>-0.15102</td>\n",
              "      <td>-0.13651</td>\n",
              "      <td>-0.19678</td>\n",
              "      <td>-0.16130</td>\n",
              "      <td>-0.17972</td>\n",
              "      <td>-0.18722</td>\n",
              "      <td>-0.238250</td>\n",
              "      <td>-0.23132</td>\n",
              "      <td>-0.233040</td>\n",
              "      <td>-0.24635</td>\n",
              "      <td>-0.16764</td>\n",
              "      <td>-0.102420</td>\n",
              "      <td>-0.22879</td>\n",
              "      <td>-0.16076</td>\n",
              "      <td>-0.14332</td>\n",
              "      <td>-0.070402</td>\n",
              "      <td>0.25943</td>\n",
              "      <td>0.63877</td>\n",
              "      <td>0.83038</td>\n",
              "      <td>1.0084</td>\n",
              "      <td>1.1830</td>\n",
              "      <td>0.94636</td>\n",
              "      <td>0.952130</td>\n",
              "      <td>0.79343</td>\n",
              "      <td>0.84741</td>\n",
              "      <td>1.01390</td>\n",
              "      <td>0.31234</td>\n",
              "      <td>-2.19060</td>\n",
              "    </tr>\n",
              "    <tr>\n",
              "      <th>4</th>\n",
              "      <td>1</td>\n",
              "      <td>-1.91820</td>\n",
              "      <td>-3.22510</td>\n",
              "      <td>-3.4652</td>\n",
              "      <td>-4.00800</td>\n",
              "      <td>-3.87030</td>\n",
              "      <td>-3.3581</td>\n",
              "      <td>-2.28540</td>\n",
              "      <td>-1.728500</td>\n",
              "      <td>-1.42220</td>\n",
              "      <td>-0.89887</td>\n",
              "      <td>-0.53819</td>\n",
              "      <td>-0.62751</td>\n",
              "      <td>-0.66393</td>\n",
              "      <td>-0.57033</td>\n",
              "      <td>-0.53109</td>\n",
              "      <td>-0.58764</td>\n",
              "      <td>-0.57940</td>\n",
              "      <td>-0.585400</td>\n",
              "      <td>-0.51963</td>\n",
              "      <td>-0.56812</td>\n",
              "      <td>-0.59811</td>\n",
              "      <td>-0.45864</td>\n",
              "      <td>-0.48240</td>\n",
              "      <td>-0.49757</td>\n",
              "      <td>-0.54754</td>\n",
              "      <td>-0.59650</td>\n",
              "      <td>-0.49290</td>\n",
              "      <td>-0.47874</td>\n",
              "      <td>-0.57125</td>\n",
              "      <td>-0.50545</td>\n",
              "      <td>-0.49044</td>\n",
              "      <td>-0.49744</td>\n",
              "      <td>-0.477910</td>\n",
              "      <td>-0.561750</td>\n",
              "      <td>-0.496130</td>\n",
              "      <td>-0.56496</td>\n",
              "      <td>-0.53351</td>\n",
              "      <td>-0.441470</td>\n",
              "      <td>-0.498320</td>\n",
              "      <td>...</td>\n",
              "      <td>1.74580</td>\n",
              "      <td>2.00800</td>\n",
              "      <td>2.00430</td>\n",
              "      <td>1.95470</td>\n",
              "      <td>1.87470</td>\n",
              "      <td>1.691500</td>\n",
              "      <td>1.487700</td>\n",
              "      <td>1.36550</td>\n",
              "      <td>1.12820</td>\n",
              "      <td>0.97613</td>\n",
              "      <td>0.71257</td>\n",
              "      <td>0.43090</td>\n",
              "      <td>0.21238</td>\n",
              "      <td>0.16481</td>\n",
              "      <td>0.15334</td>\n",
              "      <td>0.11062</td>\n",
              "      <td>0.13443</td>\n",
              "      <td>0.12413</td>\n",
              "      <td>0.092813</td>\n",
              "      <td>0.12983</td>\n",
              "      <td>0.188160</td>\n",
              "      <td>0.13241</td>\n",
              "      <td>0.15633</td>\n",
              "      <td>0.195670</td>\n",
              "      <td>0.23698</td>\n",
              "      <td>0.28418</td>\n",
              "      <td>0.25881</td>\n",
              "      <td>0.315700</td>\n",
              "      <td>0.65309</td>\n",
              "      <td>1.35350</td>\n",
              "      <td>1.77690</td>\n",
              "      <td>1.5029</td>\n",
              "      <td>1.1651</td>\n",
              "      <td>0.46073</td>\n",
              "      <td>0.019172</td>\n",
              "      <td>-0.32739</td>\n",
              "      <td>-0.48051</td>\n",
              "      <td>-0.18814</td>\n",
              "      <td>0.14284</td>\n",
              "      <td>-0.66844</td>\n",
              "    </tr>\n",
              "  </tbody>\n",
              "</table>\n",
              "<p>5 rows × 141 columns</p>\n",
              "</div>"
            ],
            "text/plain": [
              "   0        1        2       3  ...      137      138      139      140\n",
              "0  1 -1.30300 -0.83573 -1.9336  ... -1.79410 -1.35940 -2.08120 -2.82880\n",
              "1  2  0.32288 -0.87847 -1.8023  ... -3.01820 -1.65140 -0.23670  0.82832\n",
              "2  2  1.39340  1.59260  1.2420  ... -4.13380 -3.19850 -2.42200 -1.07370\n",
              "3  1 -3.52270 -5.02610 -4.3613  ...  0.84741  1.01390  0.31234 -2.19060\n",
              "4  1 -1.91820 -3.22510 -3.4652  ... -0.48051 -0.18814  0.14284 -0.66844\n",
              "\n",
              "[5 rows x 141 columns]"
            ]
          },
          "metadata": {
            "tags": []
          },
          "execution_count": 4
        }
      ]
    },
    {
      "cell_type": "code",
      "metadata": {
        "colab": {
          "base_uri": "https://localhost:8080/"
        },
        "id": "zzvf7II2yUcz",
        "outputId": "84906add-9da2-4e27-a448-dbb6b95cba0c"
      },
      "source": [
        "#La primera columna contiene las categorias del cliclo cardiaco\n",
        "df_train['0'].value_counts()"
      ],
      "execution_count": 5,
      "outputs": [
        {
          "output_type": "execute_result",
          "data": {
            "text/plain": [
              "1    4427\n",
              "2    2683\n",
              "4     306\n",
              "3     149\n",
              "5      35\n",
              "Name: 0, dtype: int64"
            ]
          },
          "metadata": {
            "tags": []
          },
          "execution_count": 5
        }
      ]
    },
    {
      "cell_type": "markdown",
      "metadata": {
        "id": "YqX33AzHyl0o"
      },
      "source": [
        "### 4.2. Sets de entrenamiento y validación"
      ]
    },
    {
      "cell_type": "code",
      "metadata": {
        "id": "00NjGmBfyjDR"
      },
      "source": [
        "# Pandas a arreglos numpy,  dado que los modelos admiten vectores numpy (los pd o pandas son lecturas inicales del archivo fuente)\n",
        "datos_train = df_train.values\n",
        "datos_test = df_test.values"
      ],
      "execution_count": 6,
      "outputs": []
    },
    {
      "cell_type": "code",
      "metadata": {
        "id": "_icfnSGJy55p"
      },
      "source": [
        "# Etiquetas (vector de una sola columna, la primera columna de posicion 0 dado que contiene las categorias)\n",
        "# [index:1 , categoria:3 , index:2 ,categoria 5 .....] ó [3,5 ....]\n",
        "cat_train = datos_train[:,0]\n",
        "cat_test = datos_test[:,0]\n",
        "\n",
        "# Subdivisión por categorías (filtro segun la categoria cat_train==# y almaceno el resto de campo en las variables x_train y x_test)\n",
        "#datos_train[where index in [#,#,#,#,#..... ], [campo 1: en adelante]]\n",
        "x_train_1 = datos_train[cat_train==1,1:]\n",
        "x_train_2 = datos_train[cat_train==2,1:]\n",
        "x_train_3 = datos_train[cat_train==3,1:]\n",
        "x_train_4 = datos_train[cat_train==4,1:]\n",
        "x_train_5 = datos_train[cat_train==5,1:]\n",
        "\n",
        "x_test_1 = datos_test[cat_test==1,1:]\n",
        "x_test_2 = datos_test[cat_test==2,1:]\n",
        "x_test_3 = datos_test[cat_test==3,1:]\n",
        "x_test_4 = datos_test[cat_test==4,1:]\n",
        "x_test_5 = datos_test[cat_test==5,1:]"
      ],
      "execution_count": 7,
      "outputs": []
    },
    {
      "cell_type": "markdown",
      "metadata": {
        "id": "4QnBH5z40JHY"
      },
      "source": [
        "La propuesta es: desarrolla un script que dibuje un ciclo cardiaco normal (categoria=1), para ello primero se le suministra estos datos (osea solo se le pasara las filas cuya categoria sean 1).\n",
        "\n",
        "Luego cuando se le suministre otras filas de categoria distinta a 1, el ciclo cardiaco generado sera distinto de la fila suministrada. Tratara de generar un ciclo normal y al ser muy diferente, se clasificara como un ciclo No Normal.\n",
        "\n"
      ]
    },
    {
      "cell_type": "code",
      "metadata": {
        "colab": {
          "base_uri": "https://localhost:8080/",
          "height": 500
        },
        "id": "8q3DxHqG1Rvb",
        "outputId": "d065587a-ae37-44ae-ca08-6b300a156df6"
      },
      "source": [
        "# Dibujar un dato normal y uno de cada anormal\n",
        "import matplotlib.pyplot as plt\n",
        "import numpy as np\n",
        "\n",
        "ind = 10\n",
        "normal = x_train_1[ind]\n",
        "anormal_2 = x_train_2[ind]\n",
        "anormal_3 = x_train_3[ind]\n",
        "anormal_4 = x_train_4[ind]\n",
        "anormal_5 = x_train_5[ind]\n",
        "\n",
        "plt.figure(figsize=(10,8))\n",
        "plt.grid()\n",
        "#Dibujar un ciclo normal con un ciclo categoria =2\n",
        "plt.subplot(2,2,1)\n",
        "plt.plot(np.arange(140), normal)\n",
        "plt.plot(np.arange(140), anormal_2, 'r--')\n",
        "#Dibujar un ciclo normal con un ciclo categoria =3\n",
        "plt.subplot(2,2,2)\n",
        "plt.plot(np.arange(140), normal)\n",
        "plt.plot(np.arange(140), anormal_3, 'r--')\n",
        "#Dibujar un ciclo normal con un ciclo categoria =4\n",
        "plt.subplot(2,2,3)\n",
        "plt.plot(np.arange(140), normal)\n",
        "plt.plot(np.arange(140), anormal_4, 'r--')\n",
        "#Dibujar un ciclo normal con un ciclo categoria =5\n",
        "plt.subplot(2,2,4)\n",
        "plt.plot(np.arange(140), normal)\n",
        "plt.plot(np.arange(140), anormal_5, 'r--')"
      ],
      "execution_count": 8,
      "outputs": [
        {
          "output_type": "execute_result",
          "data": {
            "text/plain": [
              "[<matplotlib.lines.Line2D at 0x7f9144745b50>]"
            ]
          },
          "metadata": {
            "tags": []
          },
          "execution_count": 8
        },
        {
          "output_type": "display_data",
          "data": {
            "image/png": "[encoded data removed]",
            "text/plain": [
              "<Figure size 720x576 with 4 Axes>"
            ]
          },
          "metadata": {
            "tags": [],
            "needs_background": "light"
          }
        }
      ]
    },
    {
      "cell_type": "markdown",
      "metadata": {
        "id": "mb6PViuL1dDk"
      },
      "source": [
        "### 4.3. Preprocesamiento (normalización)"
      ]
    },
    {
      "cell_type": "code",
      "metadata": {
        "colab": {
          "base_uri": "https://localhost:8080/"
        },
        "id": "TqZdZIFX1eBu",
        "outputId": "2442c1a0-f8ec-42a0-82c6-d3f5dfc607e8"
      },
      "source": [
        "# Debemos normalizar los registros entre 1 y 0 con la funcion MinMaxScaler\n",
        "from sklearn.preprocessing import MinMaxScaler\n",
        "min_max_scaler = MinMaxScaler()\n",
        "\n",
        "x_train_1_s = min_max_scaler.fit_transform(x_train_1)\n",
        "print('Mínimo y máximo originales: {:.1f}, {:.1f}'.format(np.min(x_train_1), np.max(x_train_1)))\n",
        "print('Mínimo y máximo normalización: {:.1f}, {:.1f}'.format(np.min(x_train_1_s), np.max(x_train_1_s)))\n",
        "\n",
        "x_test_1_s = min_max_scaler.transform(x_test_1)\n",
        "x_test_2_s = min_max_scaler.transform(x_test_2)\n",
        "x_test_3_s = min_max_scaler.transform(x_test_3)\n",
        "x_test_4_s = min_max_scaler.transform(x_test_4)\n",
        "x_test_5_s = min_max_scaler.transform(x_test_5)"
      ],
      "execution_count": 9,
      "outputs": [
        {
          "output_type": "stream",
          "text": [
            "Mínimo y máximo originales: -7.1, 5.0\n",
            "Mínimo y máximo normalización: 0.0, 1.0\n"
          ],
          "name": "stdout"
        }
      ]
    },
    {
      "cell_type": "markdown",
      "metadata": {
        "id": "-fD1H5po2HS8"
      },
      "source": [
        "### 4.4. Creación del Autoencoder en TensorFlow/Keras"
      ]
    },
    {
      "cell_type": "code",
      "metadata": {
        "colab": {
          "base_uri": "https://localhost:8080/"
        },
        "id": "Qpe6ER7v2H3g",
        "outputId": "806448fd-4d97-4e37-cfa7-72128548dfe5"
      },
      "source": [
        "from tensorflow.keras.models import Model\n",
        "from tensorflow.keras.layers import Input, Dense\n",
        "#inicializamos la semilla solo para que los resultados siempre sean los mismos en multiples pruebas\n",
        "np.random.seed(23)\n",
        "\n",
        "dim_entrada = x_train_1_s.shape[1]    #140 muestras/ejemplo\n",
        "entrada = Input(shape=(dim_entrada,))\n",
        "\n",
        "# Encoder\n",
        "encoder = Dense(32, activation='relu')(entrada)\n",
        "encoder = Dense(16, activation='relu')(encoder)\n",
        "encoder = Dense(8, activation='relu')(encoder)\n",
        "\n",
        "# Decoder\n",
        "decoder = Dense(16, activation='relu')(encoder)\n",
        "decoder = Dense(32, activation='relu')(decoder)\n",
        "decoder = Dense(140, activation='sigmoid')(decoder)\n",
        "\n",
        "# Autoencoder = entrada + decoder (que ya contiene el encoder)\n",
        "autoencoder = Model(inputs=entrada, outputs=decoder)\n",
        "\n",
        "autoencoder.summary()"
      ],
      "execution_count": 10,
      "outputs": [
        {
          "output_type": "stream",
          "text": [
            "Model: \"model\"\n",
            "_________________________________________________________________\n",
            "Layer (type)                 Output Shape              Param #   \n",
            "=================================================================\n",
            "input_1 (InputLayer)         [(None, 140)]             0         \n",
            "_________________________________________________________________\n",
            "dense (Dense)                (None, 32)                4512      \n",
            "_________________________________________________________________\n",
            "dense_1 (Dense)              (None, 16)                528       \n",
            "_________________________________________________________________\n",
            "dense_2 (Dense)              (None, 8)                 136       \n",
            "_________________________________________________________________\n",
            "dense_3 (Dense)              (None, 16)                144       \n",
            "_________________________________________________________________\n",
            "dense_4 (Dense)              (None, 32)                544       \n",
            "_________________________________________________________________\n",
            "dense_5 (Dense)              (None, 140)               4620      \n",
            "=================================================================\n",
            "Total params: 10,484\n",
            "Trainable params: 10,484\n",
            "Non-trainable params: 0\n",
            "_________________________________________________________________\n"
          ],
          "name": "stdout"
        }
      ]
    },
    {
      "cell_type": "markdown",
      "metadata": {
        "id": "467NMFCg2QRY"
      },
      "source": [
        "### 4.5. Optimización y entrenamiento\n",
        "\n",
        "La pérdida será el error absoluto medio (*Mean Absolute Error*, MAE):\n",
        "\n",
        "$MAE = \\frac{\\sum_{i=1}^{140} |x_i - \\hat{x_i}|}{140}$"
      ]
    },
    {
      "cell_type": "code",
      "metadata": {
        "colab": {
          "base_uri": "https://localhost:8080/"
        },
        "id": "7fxn1uKY2UTV",
        "outputId": "a41013b0-ee4a-4cc2-c4be-5fdf25eb90d1"
      },
      "source": [
        "#autoencoder es el nombre del modelo creado, con el optimizador Adam y la funcion de optimizacion de perdida MAE\n",
        "autoencoder.compile(optimizer='adam', loss='mae')\n",
        "# Dado que es autoencoders las entradas son x_train y las salidas de verificacion son x_train, dado que el modelo intenta en generar el patron general de los inputs\n",
        "#y en la aletoriedad intenta asemejarse al input de ingreso que son iguales a las de salidas\n",
        "\n",
        "#Luego evalua que tanto se asemejan los resultados con los mismos inputs\n",
        "historia = autoencoder.fit(x_train_1_s, x_train_1_s, \n",
        "          epochs=20, \n",
        "          batch_size=512,\n",
        "          validation_data=(x_test_1_s, x_test_1_s),\n",
        "          shuffle=True)"
      ],
      "execution_count": 11,
      "outputs": [
        {
          "output_type": "stream",
          "text": [
            "Epoch 1/20\n",
            "9/9 [==============================] - 1s 22ms/step - loss: 0.1226 - val_loss: 0.1172\n",
            "Epoch 2/20\n",
            "9/9 [==============================] - 0s 6ms/step - loss: 0.1124 - val_loss: 0.1064\n",
            "Epoch 3/20\n",
            "9/9 [==============================] - 0s 6ms/step - loss: 0.1013 - val_loss: 0.0953\n",
            "Epoch 4/20\n",
            "9/9 [==============================] - 0s 5ms/step - loss: 0.0904 - val_loss: 0.0848\n",
            "Epoch 5/20\n",
            "9/9 [==============================] - 0s 5ms/step - loss: 0.0811 - val_loss: 0.0772\n",
            "Epoch 6/20\n",
            "9/9 [==============================] - 0s 5ms/step - loss: 0.0745 - val_loss: 0.0719\n",
            "Epoch 7/20\n",
            "9/9 [==============================] - 0s 6ms/step - loss: 0.0701 - val_loss: 0.0683\n",
            "Epoch 8/20\n",
            "9/9 [==============================] - 0s 5ms/step - loss: 0.0672 - val_loss: 0.0661\n",
            "Epoch 9/20\n",
            "9/9 [==============================] - 0s 5ms/step - loss: 0.0654 - val_loss: 0.0649\n",
            "Epoch 10/20\n",
            "9/9 [==============================] - 0s 6ms/step - loss: 0.0644 - val_loss: 0.0640\n",
            "Epoch 11/20\n",
            "9/9 [==============================] - 0s 5ms/step - loss: 0.0635 - val_loss: 0.0630\n",
            "Epoch 12/20\n",
            "9/9 [==============================] - 0s 6ms/step - loss: 0.0623 - val_loss: 0.0614\n",
            "Epoch 13/20\n",
            "9/9 [==============================] - 0s 6ms/step - loss: 0.0604 - val_loss: 0.0591\n",
            "Epoch 14/20\n",
            "9/9 [==============================] - 0s 6ms/step - loss: 0.0581 - val_loss: 0.0568\n",
            "Epoch 15/20\n",
            "9/9 [==============================] - 0s 5ms/step - loss: 0.0560 - val_loss: 0.0548\n",
            "Epoch 16/20\n",
            "9/9 [==============================] - 0s 5ms/step - loss: 0.0539 - val_loss: 0.0528\n",
            "Epoch 17/20\n",
            "9/9 [==============================] - 0s 6ms/step - loss: 0.0518 - val_loss: 0.0507\n",
            "Epoch 18/20\n",
            "9/9 [==============================] - 0s 6ms/step - loss: 0.0495 - val_loss: 0.0484\n",
            "Epoch 19/20\n",
            "9/9 [==============================] - 0s 6ms/step - loss: 0.0471 - val_loss: 0.0460\n",
            "Epoch 20/20\n",
            "9/9 [==============================] - 0s 5ms/step - loss: 0.0446 - val_loss: 0.0437\n"
          ],
          "name": "stdout"
        }
      ]
    },
    {
      "cell_type": "code",
      "metadata": {
        "colab": {
          "base_uri": "https://localhost:8080/",
          "height": 283
        },
        "id": "PW-WJU3-2kTa",
        "outputId": "8edf17b9-cf03-4d1c-b003-879d13356c6b"
      },
      "source": [
        "# Visualizamos la perdidad en el set de entrenamiento y el test o prueba\n",
        "plt.plot(historia.history[\"loss\"], label=\"Pérdida set entrenamiento\")\n",
        "plt.plot(historia.history[\"val_loss\"], label=\"Pérdida set prueba\")\n",
        "plt.legend()"
      ],
      "execution_count": 12,
      "outputs": [
        {
          "output_type": "execute_result",
          "data": {
            "text/plain": [
              "<matplotlib.legend.Legend at 0x7f90f5669250>"
            ]
          },
          "metadata": {
            "tags": []
          },
          "execution_count": 12
        },
        {
          "output_type": "display_data",
          "data": {
            "image/png": "[encoded data removed]",
            "text/plain": [
              "<Figure size 432x288 with 1 Axes>"
            ]
          },
          "metadata": {
            "tags": [],
            "needs_background": "light"
          }
        }
      ]
    },
    {
      "cell_type": "markdown",
      "metadata": {
        "id": "QhBTazgf37x2"
      },
      "source": [
        "## 5- Clasificación"
      ]
    },
    {
      "cell_type": "code",
      "metadata": {
        "colab": {
          "base_uri": "https://localhost:8080/",
          "height": 338
        },
        "id": "lcD_Q77Q38eZ",
        "outputId": "b21dd37c-b822-42d5-e9da-d5fb0137bdfa"
      },
      "source": [
        "# ¿Qué tan bien reconstruye un dato \"normal\" y uno anormal?\n",
        "rec_normal = autoencoder(x_test_1_s).numpy()\n",
        "rec_anormal = autoencoder(x_test_5_s).numpy()\n",
        "\n",
        "dato = 5\n",
        "plt.figure(figsize=(15,5))\n",
        "plt.subplot(1,2,1)\n",
        "plt.plot(x_test_1_s[dato],'b')\n",
        "plt.plot(rec_normal[dato],'r')\n",
        "plt.fill_between(np.arange(140), rec_normal[dato], x_test_1_s[dato], color='lightcoral')\n",
        "plt.legend(labels=[\"Original normal\", \"Reconstruction\", \"Error\"])\n",
        "plt.subplot(1,2,2)\n",
        "plt.plot(x_test_5_s[dato],'b')\n",
        "plt.plot(rec_anormal[dato],'r')\n",
        "plt.fill_between(np.arange(140), rec_anormal[dato], x_test_5_s[dato], color='lightcoral')\n",
        "plt.legend(labels=[\"Original anormal\", \"Reconstruction\", \"Error\"])"
      ],
      "execution_count": 13,
      "outputs": [
        {
          "output_type": "execute_result",
          "data": {
            "text/plain": [
              "<matplotlib.legend.Legend at 0x7f90f26b1ad0>"
            ]
          },
          "metadata": {
            "tags": []
          },
          "execution_count": 13
        },
        {
          "output_type": "display_data",
          "data": {
            "image/png": "[encoded data removed]",
            "text/plain": [
              "<Figure size 1080x360 with 2 Axes>"
            ]
          },
          "metadata": {
            "tags": [],
            "needs_background": "light"
          }
        }
      ]
    },
    {
      "cell_type": "code",
      "metadata": {
        "colab": {
          "base_uri": "https://localhost:8080/",
          "height": 515
        },
        "id": "icK50_SC4EeW",
        "outputId": "346b07d0-24cb-451c-de7f-c190d81ba9a9"
      },
      "source": [
        "# Distribuciones de los errores de construcción\n",
        "# para cada categoría\n",
        "\n",
        "import tensorflow as tf\n",
        "\n",
        "rec_1 = autoencoder.predict(x_test_1_s)\n",
        "rec_2 = autoencoder.predict(x_test_2_s)\n",
        "rec_3 = autoencoder.predict(x_test_3_s)\n",
        "rec_4 = autoencoder.predict(x_test_4_s)\n",
        "rec_5 = autoencoder.predict(x_test_5_s)\n",
        "\n",
        "loss_1 = tf.keras.losses.mae(rec_1, x_test_1_s)\n",
        "loss_2 = tf.keras.losses.mae(rec_2, x_test_2_s)\n",
        "loss_3 = tf.keras.losses.mae(rec_3, x_test_3_s)\n",
        "loss_4 = tf.keras.losses.mae(rec_4, x_test_4_s)\n",
        "loss_5 = tf.keras.losses.mae(rec_5, x_test_5_s)\n",
        "\n",
        "\n",
        "plt.figure(figsize=(15,8))\n",
        "plt.hist(loss_1[None,:], bins=100, alpha=0.75, label='normales (1)')\n",
        "plt.hist(loss_2[None,:], bins=100, alpha=0.75, color='#ff521b', label='anormales (2)')\n",
        "plt.hist(loss_3[None,:], bins=100, alpha=0.75, color='#020122', label='anormales (3)')\n",
        "plt.hist(loss_4[None,:], bins=100, alpha=0.75, color='#eefc57', label='anormales (4)')\n",
        "plt.hist(loss_5[None,:], bins=100, alpha=0.75, color='r', label='anormales (5)')\n",
        "plt.xlabel('Pérdidas (MAE)')\n",
        "plt.ylabel('Nro. ejemplos')\n",
        "plt.legend(loc='upper right')\n",
        "plt.vlines(0.08,0,70,'k')"
      ],
      "execution_count": 16,
      "outputs": [
        {
          "output_type": "execute_result",
          "data": {
            "text/plain": [
              "<matplotlib.legend.Legend at 0x7f90f202c690>"
            ]
          },
          "metadata": {
            "tags": []
          },
          "execution_count": 16
        },
        {
          "output_type": "display_data",
          "data": {
            "image/png": "[encoded data removed]",
            "text/plain": [
              "<Figure size 1080x576 with 1 Axes>"
            ]
          },
          "metadata": {
            "tags": [],
            "needs_background": "light"
          }
        }
      ]
    },
    {
      "cell_type": "code",
      "metadata": {
        "colab": {
          "base_uri": "https://localhost:8080/"
        },
        "id": "OTGQlUyH4JGK",
        "outputId": "3360d249-69cc-4b48-a526-90178a41d4f3"
      },
      "source": [
        "umbral = np.mean(loss_1) + np.std(loss_1)\n",
        "print(\"Umbral: \", umbral)"
      ],
      "execution_count": 15,
      "outputs": [
        {
          "output_type": "stream",
          "text": [
            "Umbral:  0.06459853462805554\n"
          ],
          "name": "stdout"
        }
      ]
    },
    {
      "cell_type": "code",
      "metadata": {
        "colab": {
          "base_uri": "https://localhost:8080/",
          "height": 515
        },
        "id": "jlzVjPga4S5b",
        "outputId": "ccc64e65-e572-4702-a912-e26d9bcd8426"
      },
      "source": [
        "# Distribuciones de los errores de construcción\n",
        "# para cada categoría\n",
        "\n",
        "import tensorflow as tf\n",
        "\n",
        "rec_1 = autoencoder.predict(x_test_1_s)\n",
        "rec_2 = autoencoder.predict(x_test_2_s)\n",
        "rec_3 = autoencoder.predict(x_test_3_s)\n",
        "rec_4 = autoencoder.predict(x_test_4_s)\n",
        "rec_5 = autoencoder.predict(x_test_5_s)\n",
        "\n",
        "loss_1 = tf.keras.losses.mae(rec_1, x_test_1_s)\n",
        "loss_2 = tf.keras.losses.mae(rec_2, x_test_2_s)\n",
        "loss_3 = tf.keras.losses.mae(rec_3, x_test_3_s)\n",
        "loss_4 = tf.keras.losses.mae(rec_4, x_test_4_s)\n",
        "loss_5 = tf.keras.losses.mae(rec_5, x_test_5_s)\n",
        "\n",
        "\n",
        "plt.figure(figsize=(15,8))\n",
        "plt.hist(loss_1[None,:], bins=100, alpha=0.75, label='normales (1)')\n",
        "plt.hist(loss_2[None,:], bins=100, alpha=0.75, color='#ff521b', label='anormales (2)')\n",
        "plt.hist(loss_3[None,:], bins=100, alpha=0.75, color='#020122', label='anormales (3)')\n",
        "plt.hist(loss_4[None,:], bins=100, alpha=0.75, color='#eefc57', label='anormales (4)')\n",
        "plt.hist(loss_5[None,:], bins=100, alpha=0.75, color='r', label='anormales (5)')\n",
        "plt.xlabel('Pérdidas (MAE)')\n",
        "plt.ylabel('Nro. ejemplos')\n",
        "plt.legend(loc='upper right')\n",
        "#Dibujamos el umbral de separacion\n",
        "#plt.vlines(0.08,0,70,'k')\n",
        "plt.vlines(umbral,0,70,'k')\n"
      ],
      "execution_count": 17,
      "outputs": [
        {
          "output_type": "execute_result",
          "data": {
            "text/plain": [
              "<matplotlib.collections.LineCollection at 0x7f90f1835d50>"
            ]
          },
          "metadata": {
            "tags": []
          },
          "execution_count": 17
        },
        {
          "output_type": "display_data",
          "data": {
            "image/png": "[encoded data removed]",
            "text/plain": [
              "<Figure size 1080x576 with 1 Axes>"
            ]
          },
          "metadata": {
            "tags": [],
            "needs_background": "light"
          }
        }
      ]
    },
    {
      "cell_type": "markdown",
      "metadata": {
        "id": "pKcbWylt4jpb"
      },
      "source": [
        "### 5.1. Sensitividad y especificidad\n",
        "\n",
        "- Verdaderos positivos (TP): anormales que han sido correctamente clasificados como anormales\n",
        "- Falsos negativos (FN): anormales que han sido clasificados erróneamente como normales\n",
        "- Verdaderos negativos (TN): normales que han sido correctamente clasificados como normales\n",
        "- Falsos positivos (FP): normales que han sido clasificados erróneamente como anormales\n",
        "\n",
        "La **sensitividad** mide la proporción de anormales que fueron detectados correctamente como anormales. Una sensitividad del 100% detectará a todos los pacientes enfermos:\n",
        "\n",
        "$sensitividad = \\frac{TP}{TP+FN}$\n",
        "\n",
        "La **especificidad** mide la proporción de normales que fueron detectados correctamente como normales. Una especificidad del 100% detectará a todos los pacientes sanos:\n",
        "\n",
        "$especificidad = \\frac{TN}{TN+FP}$"
      ]
    },
    {
      "cell_type": "code",
      "metadata": {
        "id": "6F3whgQt4kWf"
      },
      "source": [
        "# Calcular predicciones individuales, derrollamos los metodos para generar la Matriz de Confusion\n",
        "def predecir(modelo, datos, umbral):\n",
        "  reconstrucciones = modelo(datos)\n",
        "  perdida = tf.keras.losses.mae(reconstrucciones, datos)\n",
        "  return tf.math.less(perdida, umbral)\n",
        "\n",
        "def calcular_sensitividad(prediccion, titulo):\n",
        "  TP = np.count_nonzero(~prediccion)\n",
        "  FN = np.count_nonzero(prediccion)\n",
        "  sen = 100*(TP/(TP+FN))\n",
        "\n",
        "  print(titulo + ': {:.1f}%'.format(sen))\n",
        "\n",
        "def calcular_especificidad(prediccion, titulo):\n",
        "  TN = np.count_nonzero(prediccion)\n",
        "  FP = np.count_nonzero(~prediccion)\n",
        "  esp = 100*(TN/(TN+FP))\n",
        "\n",
        "  print(titulo + ': {:.1f}%'.format(esp))\n",
        "  return esp"
      ],
      "execution_count": 18,
      "outputs": []
    },
    {
      "cell_type": "code",
      "metadata": {
        "colab": {
          "base_uri": "https://localhost:8080/"
        },
        "id": "eob4iiCY4y4O",
        "outputId": "a65ee6b9-6384-4b07-de05-bfd39c70a7be"
      },
      "source": [
        "# Predicciones\n",
        "pred_1 = predecir(autoencoder, x_test_1_s, umbral)\n",
        "pred_2 = predecir(autoencoder, x_test_2_s, umbral)\n",
        "pred_3 = predecir(autoencoder, x_test_3_s, umbral)\n",
        "pred_4 = predecir(autoencoder, x_test_4_s, umbral)\n",
        "pred_5 = predecir(autoencoder, x_test_5_s, umbral)\n",
        "\n",
        "# Pred1: especificidad\n",
        "esp_1 = calcular_especificidad(pred_1,'Especificidad (cat. 1, normales)')\n",
        "\n",
        "# Pred 2 a 5: sensitividad\n",
        "sen_2 = calcular_sensitividad(pred_2,'Sensitividad (cat. 2, anormales)')\n",
        "sen_3 = calcular_sensitividad(pred_3,'Sensitividad (cat. 3, anormales)')\n",
        "sen_4 = calcular_sensitividad(pred_4,'Sensitividad (cat. 4, anormales)')\n",
        "sen_5 = calcular_sensitividad(pred_3,'Sensitividad (cat. 5, anormales)')"
      ],
      "execution_count": 19,
      "outputs": [
        {
          "output_type": "stream",
          "text": [
            "Especificidad (cat. 1, normales): 88.3%\n",
            "Sensitividad (cat. 2, anormales): 100.0%\n",
            "Sensitividad (cat. 3, anormales): 93.9%\n",
            "Sensitividad (cat. 4, anormales): 100.0%\n",
            "Sensitividad (cat. 5, anormales): 93.9%\n"
          ],
          "name": "stdout"
        }
      ]
    }
  ]
}